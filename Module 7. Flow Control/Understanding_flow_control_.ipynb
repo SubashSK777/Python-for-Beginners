{
  "nbformat": 4,
  "nbformat_minor": 0,
  "metadata": {
    "colab": {
      "provenance": []
    },
    "kernelspec": {
      "name": "python3",
      "display_name": "Python 3"
    },
    "language_info": {
      "name": "python"
    }
  },
  "cells": [
    {
      "cell_type": "markdown",
      "source": [
        "# What is Flow control?\n",
        "\n",
        "=> Flow control in Python refers to how the program decides what actions to take and in what order. It allows the program to make decisions, repeat tasks, or branch into different paths based on conditions.\n",
        "\n",
        "Here are the main types of flow control:\n",
        "\n",
        "1. Conditional Statements (if, elif, else): These let the program make decisions based on conditions.\n",
        "\n",
        "Example:"
      ],
      "metadata": {
        "id": "ATQLVAklhVHq"
      }
    },
    {
      "cell_type": "code",
      "execution_count": 1,
      "metadata": {
        "colab": {
          "base_uri": "https://localhost:8080/"
        },
        "id": "lQsiLr5vhNGD",
        "outputId": "c3343abb-5f62-4e43-816e-393284c520aa"
      },
      "outputs": [
        {
          "output_type": "stream",
          "name": "stdout",
          "text": [
            "x is greater than 5\n"
          ]
        }
      ],
      "source": [
        "x = 10\n",
        "if x > 5:\n",
        "    print(\"x is greater than 5\")\n",
        "else:\n",
        "    print(\"x is 5 or less\")\n"
      ]
    },
    {
      "cell_type": "markdown",
      "source": [
        "**Loops** (for, while): These allow the program to repeat actions.\n",
        "\n",
        "Example:"
      ],
      "metadata": {
        "id": "Nc71mT5vmeG4"
      }
    },
    {
      "cell_type": "code",
      "source": [
        "for i in range(3):\n",
        "    print(i)  # prints 0, 1, 2\n"
      ],
      "metadata": {
        "colab": {
          "base_uri": "https://localhost:8080/"
        },
        "id": "rYtJlO6wmoCm",
        "outputId": "059786f5-a523-43c8-9fdc-58d151763192"
      },
      "execution_count": 2,
      "outputs": [
        {
          "output_type": "stream",
          "name": "stdout",
          "text": [
            "0\n",
            "1\n",
            "2\n"
          ]
        }
      ]
    },
    {
      "cell_type": "markdown",
      "source": [
        "**Break and Continue:** Used to control the loop further. break stops the loop, and continue skips to the next iteration.\n",
        "\n",
        "Example:"
      ],
      "metadata": {
        "id": "nkOfw6nHmt8d"
      }
    },
    {
      "cell_type": "code",
      "source": [
        "for i in range(5):\n",
        "    if i == 3:\n",
        "        break  # loop stops at 3\n",
        "    print(i)\n"
      ],
      "metadata": {
        "colab": {
          "base_uri": "https://localhost:8080/"
        },
        "id": "xdb-7-NDmwgY",
        "outputId": "64780c33-02ce-480a-a9d4-823037e3d77c"
      },
      "execution_count": 3,
      "outputs": [
        {
          "output_type": "stream",
          "name": "stdout",
          "text": [
            "0\n",
            "1\n",
            "2\n"
          ]
        }
      ]
    }
  ]
}