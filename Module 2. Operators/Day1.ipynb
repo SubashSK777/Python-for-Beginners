{
  "nbformat": 4,
  "nbformat_minor": 0,
  "metadata": {
    "colab": {
      "provenance": []
    },
    "kernelspec": {
      "name": "python3",
      "display_name": "Python 3"
    },
    "language_info": {
      "name": "python"
    }
  },
  "cells": [
    {
      "cell_type": "code",
      "execution_count": 53,
      "metadata": {
        "colab": {
          "base_uri": "https://localhost:8080/"
        },
        "id": "RyRuOSHEGUWk",
        "outputId": "590e7c67-e99d-44d8-90ef-0f8e5f20efe0"
      },
      "outputs": [
        {
          "output_type": "stream",
          "name": "stdout",
          "text": [
            "HELLO WORLD !!\n"
          ]
        }
      ],
      "source": [
        "print(\"HELLO WORLD !!\")"
      ]
    },
    {
      "cell_type": "code",
      "source": [
        "# Integer Variable\n",
        "x = 5\n",
        "print(x)"
      ],
      "metadata": {
        "colab": {
          "base_uri": "https://localhost:8080/"
        },
        "id": "3PWXROKGGn6s",
        "outputId": "d6270cef-dd9d-4655-e080-b43a4172188c"
      },
      "execution_count": 5,
      "outputs": [
        {
          "output_type": "stream",
          "name": "stdout",
          "text": [
            "5\n"
          ]
        }
      ]
    },
    {
      "cell_type": "code",
      "source": [
        "# Float Variable\n",
        "y = 5.5\n",
        "print(y)"
      ],
      "metadata": {
        "colab": {
          "base_uri": "https://localhost:8080/"
        },
        "id": "XGQ79b4FHqUo",
        "outputId": "2964e948-1aba-47af-d4fe-ceab6410bdfe"
      },
      "execution_count": 6,
      "outputs": [
        {
          "output_type": "stream",
          "name": "stdout",
          "text": [
            "5.5\n"
          ]
        }
      ]
    },
    {
      "cell_type": "code",
      "source": [
        "# Arthemtic Opertaor on these two variable\n",
        "print(x + y)\n",
        "print(x - y)\n",
        "print(x * y)\n",
        "print(x / y)"
      ],
      "metadata": {
        "colab": {
          "base_uri": "https://localhost:8080/"
        },
        "id": "sPbRSMT6H75g",
        "outputId": "3a4ae51d-b08f-426b-f087-d2434f695e0f"
      },
      "execution_count": 7,
      "outputs": [
        {
          "output_type": "stream",
          "name": "stdout",
          "text": [
            "10.5\n",
            "-0.5\n",
            "27.5\n",
            "0.9090909090909091\n"
          ]
        }
      ]
    },
    {
      "cell_type": "code",
      "source": [
        "# Comparison Operator on these two variable\n",
        "print(x > y)\n",
        "print(x < y)\n",
        "print(x == y)\n",
        "print(x != y)"
      ],
      "metadata": {
        "colab": {
          "base_uri": "https://localhost:8080/"
        },
        "id": "8KiXnOQXIGFX",
        "outputId": "ec2bcaab-e3b9-4a96-cf8b-114357d88d3f"
      },
      "execution_count": 9,
      "outputs": [
        {
          "output_type": "stream",
          "name": "stdout",
          "text": [
            "False\n",
            "True\n",
            "False\n",
            "True\n"
          ]
        }
      ]
    },
    {
      "cell_type": "code",
      "source": [
        "# String Variable\n",
        "name = \"John\"\n",
        "print(name)\n",
        "name2 = 'Mohan'\n",
        "print(name2)\n",
        "var2 = \"324344\"\n",
        "print(var2)"
      ],
      "metadata": {
        "colab": {
          "base_uri": "https://localhost:8080/"
        },
        "id": "glvIhG4nIT9A",
        "outputId": "cc2a6dcd-4504-4e93-b3f5-1006610b3ba6"
      },
      "execution_count": 12,
      "outputs": [
        {
          "output_type": "stream",
          "name": "stdout",
          "text": [
            "John\n",
            "Mohan\n",
            "324344\n"
          ]
        }
      ]
    },
    {
      "cell_type": "code",
      "source": [
        "# Boolen Variable\n",
        "is_student = True\n",
        "print(is_student)\n",
        "is_teacher = False\n",
        "print(is_teacher)"
      ],
      "metadata": {
        "colab": {
          "base_uri": "https://localhost:8080/"
        },
        "id": "llm-w-MEJ4lI",
        "outputId": "bfea4346-085e-4827-9424-db56a4554314"
      },
      "execution_count": 13,
      "outputs": [
        {
          "output_type": "stream",
          "name": "stdout",
          "text": [
            "True\n",
            "False\n"
          ]
        }
      ]
    },
    {
      "cell_type": "code",
      "source": [
        "# All variables together\n",
        "age = 34\n",
        "height = 5.4\n",
        "name = \"John\"\n",
        "is_student = True\n",
        "print(\"Age:\",age)\n",
        "print(\"Height:\",height)\n",
        "print(\"Name:\",name)\n",
        "print(\"Is Student:\",is_student)"
      ],
      "metadata": {
        "colab": {
          "base_uri": "https://localhost:8080/"
        },
        "id": "HE0D0bLvKXEu",
        "outputId": "bb085aa1-0123-4bb8-c02c-1e7d0d4fbac1"
      },
      "execution_count": 17,
      "outputs": [
        {
          "output_type": "stream",
          "name": "stdout",
          "text": [
            "Age: 34\n",
            "Height: 5.4\n",
            "Name: John\n",
            "Is Student: True\n"
          ]
        }
      ]
    },
    {
      "cell_type": "markdown",
      "source": [
        "### Data Types:\n",
        "**Introduce basic data types in Python:**\n",
        "\n",
        "- int: for integers\n",
        "- float: for decimal numbers\n",
        "- str: for text (strings)\n",
        "- bool: for True/False"
      ],
      "metadata": {
        "id": "-ug0FzEXLiKa"
      }
    },
    {
      "cell_type": "code",
      "source": [
        "type(is_student)"
      ],
      "metadata": {
        "colab": {
          "base_uri": "https://localhost:8080/"
        },
        "id": "Wh-u3vVKMNEg",
        "outputId": "c048b01f-31e2-46bf-d035-ac49f8576f23"
      },
      "execution_count": 22,
      "outputs": [
        {
          "output_type": "execute_result",
          "data": {
            "text/plain": [
              "bool"
            ]
          },
          "metadata": {},
          "execution_count": 22
        }
      ]
    },
    {
      "cell_type": "code",
      "source": [
        "# Checking data types\n",
        "print(type(age))\n",
        "print(type(height))\n",
        "print(type(name))\n",
        "print(type(is_student))"
      ],
      "metadata": {
        "colab": {
          "base_uri": "https://localhost:8080/"
        },
        "id": "s1sqkW80K8lC",
        "outputId": "04fce0b5-c246-495b-b360-314eece46102"
      },
      "execution_count": 18,
      "outputs": [
        {
          "output_type": "stream",
          "name": "stdout",
          "text": [
            "<class 'int'>\n",
            "<class 'float'>\n",
            "<class 'str'>\n",
            "<class 'bool'>\n"
          ]
        }
      ]
    },
    {
      "cell_type": "code",
      "source": [
        "# Operators\n",
        "\n",
        "a = 10\n",
        "b = 3\n",
        "\n",
        "# Addition\n",
        "print(\"Addition:\",a + b)\n",
        "\n",
        "# Substraction\n",
        "print(\"Substraction:\",a - b)\n",
        "\n",
        "# Multiplication\n",
        "print(\"Multiplication:\",a * b)\n",
        "\n",
        "# Division\n",
        "print(\"Division:\",a / b)\n",
        "\n",
        "# Floor Division\n",
        "print(\"Floor Division:\",a // b)\n",
        "\n",
        "# Modulus\n",
        "print(\"Modulus:\",a % b)"
      ],
      "metadata": {
        "colab": {
          "base_uri": "https://localhost:8080/"
        },
        "id": "nG9GYop4MFOe",
        "outputId": "25925aaa-c38f-45c9-9cb3-8397867efcbf"
      },
      "execution_count": 24,
      "outputs": [
        {
          "output_type": "stream",
          "name": "stdout",
          "text": [
            "Addition: 13\n",
            "Substraction: 7\n",
            "Multiplication: 30\n",
            "Division: 3.3333333333333335\n",
            "Floor Division: 3\n",
            "Modulus: 1\n"
          ]
        }
      ]
    },
    {
      "cell_type": "code",
      "source": [
        "# Comparison Operators:\n",
        "\n",
        "x = 20\n",
        "y = 4\n",
        "\n",
        "# Equal to\n",
        "print(x == y)  # Output: False\n",
        "\n",
        "# Not equal to\n",
        "print(x != y)  # Output: True\n",
        "\n",
        "# Greater than\n",
        "print(x > y)  # Output: True\n",
        "\n",
        "# Less than\n",
        "print(x < y)  # Output: False\n",
        "\n",
        "# Greater than or equal to\n",
        "print(x >= y)  # Output: True\n",
        "\n",
        "# Less than or equal to\n",
        "print(x <= y)  # Output: False"
      ],
      "metadata": {
        "colab": {
          "base_uri": "https://localhost:8080/"
        },
        "id": "trD-IGAaN_e5",
        "outputId": "efcacfa5-4f8d-41f9-f7e3-81aa4bf0afb2"
      },
      "execution_count": 27,
      "outputs": [
        {
          "output_type": "stream",
          "name": "stdout",
          "text": [
            "False\n",
            "True\n",
            "True\n",
            "False\n",
            "True\n",
            "False\n"
          ]
        }
      ]
    },
    {
      "cell_type": "code",
      "source": [
        "var1 = 10\n",
        "var2 = \"john\"\n",
        "var3 = True\n",
        "\n",
        "print(type(var1))\n",
        "print(type(var2))\n",
        "print(type(var3))\n"
      ],
      "metadata": {
        "colab": {
          "base_uri": "https://localhost:8080/"
        },
        "id": "5baPGIDqNma-",
        "outputId": "ca0ab41e-d2dd-447b-8c07-ca5f5c2d275d"
      },
      "execution_count": 28,
      "outputs": [
        {
          "output_type": "stream",
          "name": "stdout",
          "text": [
            "<class 'int'>\n",
            "<class 'str'>\n",
            "<class 'bool'>\n"
          ]
        }
      ]
    },
    {
      "cell_type": "code",
      "source": [
        "# Input From User\n",
        "name = input(\"Enter your name: \")\n",
        "age= int(input(\"Enter your age: \"))\n",
        "print(\"Your name is\",name,\"and your age is\",age)"
      ],
      "metadata": {
        "colab": {
          "base_uri": "https://localhost:8080/"
        },
        "id": "LhQTlTUvOrM3",
        "outputId": "6e6e6906-185c-4386-d1ba-0b989aa9f721"
      },
      "execution_count": 34,
      "outputs": [
        {
          "output_type": "stream",
          "name": "stdout",
          "text": [
            "Enter your name: Suneel\n",
            "Enter your age: 34\n",
            "Your name is Suneel and your age is 34\n"
          ]
        }
      ]
    },
    {
      "cell_type": "code",
      "source": [
        "type(age)"
      ],
      "metadata": {
        "colab": {
          "base_uri": "https://localhost:8080/"
        },
        "id": "Rm1eB-OvPG2D",
        "outputId": "3fe452bd-257f-4bcc-c6c0-d54ca66a045d"
      },
      "execution_count": 33,
      "outputs": [
        {
          "output_type": "execute_result",
          "data": {
            "text/plain": [
              "str"
            ]
          },
          "metadata": {},
          "execution_count": 33
        }
      ]
    },
    {
      "cell_type": "code",
      "source": [
        "age1 = 34"
      ],
      "metadata": {
        "id": "i4K_XHUzPsGP"
      },
      "execution_count": 35,
      "outputs": []
    },
    {
      "cell_type": "code",
      "source": [
        "type(age1)"
      ],
      "metadata": {
        "colab": {
          "base_uri": "https://localhost:8080/"
        },
        "id": "wL3mrU6UP4Vt",
        "outputId": "182e01c6-e28e-40a9-9587-5098fad74816"
      },
      "execution_count": 36,
      "outputs": [
        {
          "output_type": "execute_result",
          "data": {
            "text/plain": [
              "int"
            ]
          },
          "metadata": {},
          "execution_count": 36
        }
      ]
    },
    {
      "cell_type": "code",
      "source": [
        "# Input From User (Defining Data Type)\n",
        "name = input(\"Enter your name: \")\n",
        "age= int(input(\"Enter your age: \"))\n",
        "print(\"Your name is\",name,\"and your age is\",age)"
      ],
      "metadata": {
        "colab": {
          "base_uri": "https://localhost:8080/"
        },
        "id": "QuKmrwgpP8hd",
        "outputId": "812cc909-aeb6-4750-9bfe-d0175cb51908"
      },
      "execution_count": 42,
      "outputs": [
        {
          "output_type": "stream",
          "name": "stdout",
          "text": [
            "Enter your name: Suneel\n",
            "Enter your age: 34\n",
            "Your name is Suneel and your age is 34\n"
          ]
        }
      ]
    },
    {
      "cell_type": "code",
      "source": [
        "type(age)"
      ],
      "metadata": {
        "colab": {
          "base_uri": "https://localhost:8080/"
        },
        "id": "cl-fpPFqQYyn",
        "outputId": "a81373d2-4893-41fa-ce5e-9e4bfb96e371"
      },
      "execution_count": 43,
      "outputs": [
        {
          "output_type": "execute_result",
          "data": {
            "text/plain": [
              "int"
            ]
          },
          "metadata": {},
          "execution_count": 43
        }
      ]
    },
    {
      "cell_type": "code",
      "source": [
        "# Input From User to apply arthematic opertors\n",
        "a = int(input(\"Enter first number: \"))\n",
        "b = int(input(\"Enter second number: \"))\n",
        "print(\"Addition:\",a + b)\n",
        "print(\"Substraction:\",a - b)\n",
        "print(\"Multiplication:\",a * b)\n",
        "print(\"Division:\",a / b)"
      ],
      "metadata": {
        "colab": {
          "base_uri": "https://localhost:8080/"
        },
        "id": "YEdjdfbxQbp2",
        "outputId": "94864d05-1e49-4a84-e7df-1c64de0da773"
      },
      "execution_count": 47,
      "outputs": [
        {
          "output_type": "stream",
          "name": "stdout",
          "text": [
            "Enter first number: 10\n",
            "Enter second number: 20\n",
            "Addition: 30\n",
            "Substraction: -10\n",
            "Multiplication: 200\n",
            "Division: 0.5\n"
          ]
        }
      ]
    },
    {
      "cell_type": "code",
      "source": [
        "# Input from user as string data type values to apply arthematic opertors\n",
        "a = input(\"Enter first number: \")\n",
        "b = input(\"Enter second number: \")\n",
        "print(\"Addition:\",a + b)\n",
        "#print(\"Substraction:\",a - b)"
      ],
      "metadata": {
        "colab": {
          "base_uri": "https://localhost:8080/"
        },
        "id": "Rev0w06hQ63V",
        "outputId": "cbf755a0-ab0a-4a0f-d3fe-c8299d155188"
      },
      "execution_count": 52,
      "outputs": [
        {
          "output_type": "stream",
          "name": "stdout",
          "text": [
            "Enter first number: SUNEEL\n",
            "Enter second number: PATEL\n",
            "Addition: SUNEELPATEL\n"
          ]
        }
      ]
    }
  ]
}