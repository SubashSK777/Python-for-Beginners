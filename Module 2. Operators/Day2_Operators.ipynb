{
  "nbformat": 4,
  "nbformat_minor": 0,
  "metadata": {
    "colab": {
      "provenance": []
    },
    "kernelspec": {
      "name": "python3",
      "display_name": "Python 3"
    },
    "language_info": {
      "name": "python"
    }
  },
  "cells": [
    {
      "cell_type": "markdown",
      "source": [
        "#OPERATORS"
      ],
      "metadata": {
        "id": "x3S3_Dk6d2Gp"
      }
    },
    {
      "cell_type": "code",
      "source": [
        "#let\n",
        "\n",
        "x = 10\n",
        "y = 3"
      ],
      "metadata": {
        "id": "k0iywLFkhJ3R"
      },
      "execution_count": 4,
      "outputs": []
    },
    {
      "cell_type": "code",
      "execution_count": 5,
      "metadata": {
        "colab": {
          "base_uri": "https://localhost:8080/"
        },
        "id": "flHxGjN3dxLd",
        "outputId": "6593a44f-bb72-4581-e7c3-197a981ad152"
      },
      "outputs": [
        {
          "output_type": "stream",
          "name": "stdout",
          "text": [
            "13\n",
            "7\n",
            "30\n",
            "3.3333333333333335\n",
            "1\n",
            "1000\n",
            "3\n"
          ]
        }
      ],
      "source": [
        "# Arithmetic Operators\n",
        "print(x + y)  # Addition\n",
        "print(x - y)  # Subtraction\n",
        "print(x * y)  # Multiplication\n",
        "print(x / y)  # Division\n",
        "print(x % y)  # Modulus\n",
        "print(x ** y) # Exponentiation\n",
        "print(x // y) # Floor division\n"
      ]
    },
    {
      "cell_type": "code",
      "source": [
        "# Comparison Operator on these two variable\n",
        "print(x > y)\n",
        "print(x < y)\n",
        "print(x == y)\n",
        "print(x != y)"
      ],
      "metadata": {
        "colab": {
          "base_uri": "https://localhost:8080/"
        },
        "id": "uX-dVzODgnWk",
        "outputId": "a3d87b8a-682a-4ea2-dbdf-88e61572d6ac"
      },
      "execution_count": 6,
      "outputs": [
        {
          "output_type": "stream",
          "name": "stdout",
          "text": [
            "True\n",
            "False\n",
            "False\n",
            "True\n"
          ]
        }
      ]
    },
    {
      "cell_type": "code",
      "source": [
        "#Assignment Operators\n",
        "x = 5\n",
        "x += y  # Equivalent to x = x + y\n",
        "x -= y  # Equivalent to x = x - y\n",
        "x *= y  # Equivalent to x = x * y\n",
        "x /= y  # Equivalent to x = x / y\n",
        "x %= y  # Equivalent to x = x % y\n",
        "x **= y # Equivalent to x = x ** y\n",
        "x //= y # Equivalent to x = x // y\n"
      ],
      "metadata": {
        "id": "W0y8ibxuhr4D"
      },
      "execution_count": 10,
      "outputs": []
    },
    {
      "cell_type": "code",
      "source": [
        "#Logical Operators\n",
        "print(x and y)  # Logical AND\n",
        "print(x or y)   # Logical OR\n",
        "print(not x)    # Logical NOT\n"
      ],
      "metadata": {
        "colab": {
          "base_uri": "https://localhost:8080/"
        },
        "id": "8FypPMe7kteH",
        "outputId": "47044ff7-6f2b-4587-893e-e2ef9d21f29a"
      },
      "execution_count": 11,
      "outputs": [
        {
          "output_type": "stream",
          "name": "stdout",
          "text": [
            "3\n",
            "2.0\n",
            "False\n"
          ]
        }
      ]
    },
    {
      "cell_type": "code",
      "source": [
        "#Bitwise Operators\n",
        "x = 5  # binary: 0101\n",
        "y = 3  # binary: 0011\n",
        "\n",
        "print(x & y)  # Bitwise AND: 0101 & 0011 = 0001 (1)\n",
        "print(x | y)  # Bitwise OR: 0101 | 0011 = 0111 (7)\n",
        "print(x ^ y)  # Bitwise XOR: 0101 ^ 0011 = 0110 (6)\n",
        "print(~x)     # Bitwise NOT: ~0101 = 1010 (-6 in two's complement)\n",
        "print(x << y) # Bitwise left shift: 0101 << 3 = 0101000 (40)\n",
        "print(x >> y) # Bitwise right shift: 0101 >> 3 = 0000 (0)\n",
        "\n"
      ],
      "metadata": {
        "colab": {
          "base_uri": "https://localhost:8080/"
        },
        "id": "gDfOA-U-k14z",
        "outputId": "a965facd-0f44-408d-c1d1-215c74aaa6db"
      },
      "execution_count": 13,
      "outputs": [
        {
          "output_type": "stream",
          "name": "stdout",
          "text": [
            "1\n",
            "7\n",
            "6\n",
            "-6\n",
            "40\n",
            "0\n"
          ]
        }
      ]
    },
    {
      "cell_type": "code",
      "source": [
        "#Membership Operators\n",
        "\n",
        "x = 5\n",
        "y = [1, 2, 3, 4, 5]\n",
        "\n",
        "print(x in y)      # True if x is in the list y\n",
        "print(x not in y)  # True if x is not in the list y\n"
      ],
      "metadata": {
        "colab": {
          "base_uri": "https://localhost:8080/"
        },
        "id": "RA_WPXiglWOW",
        "outputId": "df4a42eb-ecee-4d66-ad4b-adb53d44c541"
      },
      "execution_count": 18,
      "outputs": [
        {
          "output_type": "stream",
          "name": "stdout",
          "text": [
            "True\n",
            "False\n"
          ]
        }
      ]
    }
  ]
}
