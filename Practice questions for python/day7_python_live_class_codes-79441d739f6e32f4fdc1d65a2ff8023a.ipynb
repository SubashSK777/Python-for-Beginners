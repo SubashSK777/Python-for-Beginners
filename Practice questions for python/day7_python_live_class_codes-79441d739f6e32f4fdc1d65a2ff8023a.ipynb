{
  "nbformat": 4,
  "nbformat_minor": 0,
  "metadata": {
    "colab": {
      "provenance": []
    },
    "kernelspec": {
      "name": "python3",
      "display_name": "Python 3"
    },
    "language_info": {
      "name": "python"
    }
  },
  "cells": [
    {
      "cell_type": "markdown",
      "source": [
        "# 1. Functions\n",
        "A function is a block of reusable code that performs a specific task. Functions allow you to break down complex problems into smaller, manageable parts.\n",
        "\n",
        "Defining a Function\n",
        "In Python, functions are defined using the def keyword followed by the function name and parentheses. Functions can take parameters and can also return values using the return statement."
      ],
      "metadata": {
        "id": "j5cQiM05ZDbG"
      }
    },
    {
      "cell_type": "code",
      "source": [
        "# Defining a function\n",
        "def greet(name):\n",
        "    return f\"Hello, {name} !!\""
      ],
      "metadata": {
        "id": "k-eNdHFaPK3g"
      },
      "execution_count": null,
      "outputs": []
    },
    {
      "cell_type": "code",
      "source": [
        "# Calling the function\n",
        "message = greet(\"Arav\")\n",
        "greet(message)"
      ],
      "metadata": {
        "colab": {
          "base_uri": "https://localhost:8080/",
          "height": 36
        },
        "id": "NY1bm4xnPnkW",
        "outputId": "a1754e6f-2436-4147-eb60-d54ca0a6cbf3"
      },
      "execution_count": null,
      "outputs": [
        {
          "output_type": "execute_result",
          "data": {
            "text/plain": [
              "'Hello, Hello, Arav !! !!'"
            ],
            "application/vnd.google.colaboratory.intrinsic+json": {
              "type": "string"
            }
          },
          "metadata": {},
          "execution_count": 7
        }
      ]
    },
    {
      "cell_type": "code",
      "execution_count": null,
      "metadata": {
        "colab": {
          "base_uri": "https://localhost:8080/"
        },
        "id": "HXKe00aCTroR",
        "outputId": "66f6a6ca-7c1c-43e2-cc33-a0856a1da97a"
      },
      "outputs": [
        {
          "output_type": "stream",
          "name": "stdout",
          "text": [
            "Hello, Arav!\n"
          ]
        }
      ],
      "source": [
        "# Defining a function\n",
        "def greet(name):\n",
        "    return f\"Hello, {name}!\"\n",
        "\n",
        "# Calling the function\n",
        "message = greet(\"Arav\")\n",
        "print(message)"
      ]
    },
    {
      "cell_type": "code",
      "source": [
        "# make a list of 10 random people's name\n",
        "list1 = ['Arav','John', 'Mohan', 'mohit', 'rohan','jaya','nidhi','gita','amit']\n",
        "\n",
        "for i in list1:\n",
        "    print(greet(i))"
      ],
      "metadata": {
        "colab": {
          "base_uri": "https://localhost:8080/"
        },
        "id": "KHRBZACjQxKZ",
        "outputId": "c8c8f73e-c4da-417f-c69c-7cb5da332d4b"
      },
      "execution_count": null,
      "outputs": [
        {
          "output_type": "stream",
          "name": "stdout",
          "text": [
            "Hello, Arav !!\n",
            "Hello, John !!\n",
            "Hello, Mohan !!\n",
            "Hello, mohit !!\n",
            "Hello, rohan !!\n",
            "Hello, jaya !!\n",
            "Hello, nidhi !!\n",
            "Hello, gita !!\n",
            "Hello, amit !!\n"
          ]
        }
      ]
    },
    {
      "cell_type": "code",
      "source": [
        "def calc (a,b,c):\n",
        "  sum = a+b\n",
        "  mul = a*b\n",
        "  sub = a-b\n",
        "  div = a/b\n",
        "  return sum,mul,sub,div\n",
        "\n",
        "print(calc(10,20,30))"
      ],
      "metadata": {
        "colab": {
          "base_uri": "https://localhost:8080/"
        },
        "id": "W-ukR5dmSGvx",
        "outputId": "f44cba75-2222-4af7-dcc1-f69aa618327f"
      },
      "execution_count": null,
      "outputs": [
        {
          "output_type": "stream",
          "name": "stdout",
          "text": [
            "(30, 200, -10, 0.5)\n"
          ]
        }
      ]
    },
    {
      "cell_type": "code",
      "source": [
        "def calc (a,b,c=10):\n",
        "  sum = a+b+c\n",
        "  mul = a*b*c\n",
        "  sub = a-b-c\n",
        "  div = a/b+c\n",
        "  return sum,mul,sub,div\n",
        "\n",
        "print(calc(20,30))"
      ],
      "metadata": {
        "colab": {
          "base_uri": "https://localhost:8080/"
        },
        "id": "pGOEH6MwZpaA",
        "outputId": "c75f7c43-8a3d-42fe-daa3-0f0069a23b74"
      },
      "execution_count": null,
      "outputs": [
        {
          "output_type": "stream",
          "name": "stdout",
          "text": [
            "(60, 6000, -20, 10.666666666666666)\n"
          ]
        }
      ]
    },
    {
      "cell_type": "code",
      "source": [
        "def my_function(country = \"Norway\"):\n",
        "  print(\"I am from \" + country)\n",
        "\n",
        "my_function(\"Sweden\")\n",
        "my_function(\"India\")\n",
        "my_function()\n",
        "my_function(\"Brazil\")"
      ],
      "metadata": {
        "colab": {
          "base_uri": "https://localhost:8080/"
        },
        "id": "7wXNemSpa7NE",
        "outputId": "3a199f80-c762-4c87-ed16-ecab9352496c"
      },
      "execution_count": null,
      "outputs": [
        {
          "output_type": "stream",
          "name": "stdout",
          "text": [
            "I am from Sweden\n",
            "I am from India\n",
            "I am from Norway\n",
            "I am from Brazil\n"
          ]
        }
      ]
    },
    {
      "cell_type": "code",
      "source": [
        "def my_function(x):\n",
        "  return 5 * x\n",
        "\n",
        "print(my_function(3))\n",
        "print(my_function(5))\n",
        "print(my_function(9))"
      ],
      "metadata": {
        "colab": {
          "base_uri": "https://localhost:8080/"
        },
        "id": "HHCckEpkbMKF",
        "outputId": "0b1ea1b2-b757-4151-f9a7-a257875915d4"
      },
      "execution_count": null,
      "outputs": [
        {
          "output_type": "stream",
          "name": "stdout",
          "text": [
            "15\n",
            "25\n",
            "45\n"
          ]
        }
      ]
    },
    {
      "cell_type": "code",
      "source": [
        "def apply_BODMAS(expression):\n",
        "    try:\n",
        "        # Evaluate the expression using eval (follows BODMAS rules automatically)\n",
        "        result = eval(expression)\n",
        "        return result\n",
        "    except Exception as e:\n",
        "        return f\"Error: {e}\"\n",
        "\n",
        "# Test the function\n",
        "expression = \"3 + 6 * (5 + 4) / 3 - 7\"\n",
        "result = apply_BODMAS(expression)\n",
        "print(f\"The result of '{expression}' is: {result}\")"
      ],
      "metadata": {
        "colab": {
          "base_uri": "https://localhost:8080/"
        },
        "id": "LsUj19ZFWrTb",
        "outputId": "2efe7c5a-e406-4062-91bd-c074eca51d2e"
      },
      "execution_count": null,
      "outputs": [
        {
          "output_type": "stream",
          "name": "stdout",
          "text": [
            "The result of '3 + 6 * (5 + 4) / 3 - 7' is: 14.0\n"
          ]
        }
      ]
    },
    {
      "cell_type": "markdown",
      "source": [
        "### if there are 10 names in the list and we want to greet all of them together then we use loop\n"
      ],
      "metadata": {
        "id": "8Wt_LQYXQV1F"
      }
    },
    {
      "cell_type": "markdown",
      "source": [
        "## 1. Built-in Functions\n",
        "These are functions that are already defined in Python and can be used directly without any need for defining them. Some commonly used built-in functions are print(), len(), sum(), and type().\n",
        "\n",
        "Example:"
      ],
      "metadata": {
        "id": "TClZ6scQee5a"
      }
    },
    {
      "cell_type": "code",
      "source": [
        "# Using built-in functions\n",
        "print(len(\"Hello\"))  # Output: 5\n",
        "print(max([10, 20, 30]))  # Output: 30"
      ],
      "metadata": {
        "colab": {
          "base_uri": "https://localhost:8080/"
        },
        "id": "n3YHg0HuZHnd",
        "outputId": "3b40ef3e-d824-4eed-d5fc-c71e8bd375fa"
      },
      "execution_count": null,
      "outputs": [
        {
          "output_type": "stream",
          "name": "stdout",
          "text": [
            "5\n",
            "30\n"
          ]
        }
      ]
    },
    {
      "cell_type": "markdown",
      "source": [
        "## 2. User-defined Functions\n",
        "User-defined functions are created by the programmer to perform specific tasks. These functions are defined using the def keyword and can take parameters and return values.\n",
        "\n",
        "Example:"
      ],
      "metadata": {
        "id": "2AGJ-bgRetoZ"
      }
    },
    {
      "cell_type": "code",
      "source": [
        "# Defining a user-defined function\n",
        "def greet(name):\n",
        "    return f\"Hello, {name}!\"\n",
        "\n",
        "# Calling the function\n",
        "print(greet(\"Arav\"))  # Output: Hello, Arav!"
      ],
      "metadata": {
        "colab": {
          "base_uri": "https://localhost:8080/"
        },
        "id": "eSjdfyVEeh9v",
        "outputId": "00fc9b3d-1813-49a0-959c-280da46db335"
      },
      "execution_count": null,
      "outputs": [
        {
          "output_type": "stream",
          "name": "stdout",
          "text": [
            "Hello, Arav!\n"
          ]
        }
      ]
    },
    {
      "cell_type": "markdown",
      "source": [
        "## 3. Anonymous Functions (Lambda Functions)\n",
        "An anonymous function, also known as a lambda function, is a small function without a name. It is defined using the lambda keyword and can have any number of arguments, but only one expression. It is generally used for short-term purposes, especially in situations like functional programming.\n",
        "\n",
        "Example:"
      ],
      "metadata": {
        "id": "x-WQeyybe4e5"
      }
    },
    {
      "cell_type": "code",
      "source": [
        "# Lambda function to add two numbers\n",
        "def add (a,b):\n",
        "  return a+b\n",
        "\n",
        "print(add(5, 10))\n",
        "\n",
        "# Lambda Function\n",
        "add = lambda x, y: x + y\n",
        "\n",
        "# Calling the lambda function\n",
        "print(add(5, 10))  # Output: 15"
      ],
      "metadata": {
        "colab": {
          "base_uri": "https://localhost:8080/"
        },
        "id": "YRCCIj4iex38",
        "outputId": "f6fb6f94-1a6a-46f5-a749-1b16a265dea0"
      },
      "execution_count": null,
      "outputs": [
        {
          "output_type": "stream",
          "name": "stdout",
          "text": [
            "15\n",
            "15\n"
          ]
        }
      ]
    },
    {
      "cell_type": "markdown",
      "source": [
        "## 4. Recursive Functions\n",
        "A recursive function is a function that calls itself. It is useful for solving problems that can be broken down into similar sub-problems, like computing factorials or performing a depth-first search.\n",
        "\n",
        "Example:"
      ],
      "metadata": {
        "id": "dzjrrFZcfR1d"
      }
    },
    {
      "cell_type": "code",
      "source": [
        "# Recursive function to calculate factorial\n",
        "def factorial(n):\n",
        "    if n == 1:\n",
        "        return 1\n",
        "    else:\n",
        "        return n * factorial(n - 1)\n",
        "\n",
        "# Calling the recursive function\n",
        "print(factorial(5))  # Output: 120"
      ],
      "metadata": {
        "colab": {
          "base_uri": "https://localhost:8080/"
        },
        "id": "gWfG4n4de6yZ",
        "outputId": "b6b283f3-eb86-47c7-b04f-0ee79b74c15a"
      },
      "execution_count": null,
      "outputs": [
        {
          "output_type": "stream",
          "name": "stdout",
          "text": [
            "120\n"
          ]
        }
      ]
    },
    {
      "cell_type": "markdown",
      "source": [
        "## 5. Higher-Order Functions\n",
        "A higher-order function is a function that takes another function as an argument or returns a function as a result. These are useful in functional programming techniques.\n",
        "\n",
        "Example:"
      ],
      "metadata": {
        "id": "-xUDyuE7fm1M"
      }
    },
    {
      "cell_type": "code",
      "source": [
        "# Higher-order function: map() with lambda function\n",
        "numbers = [1, 2, 3, 4]\n",
        "squared = list(map(lambda x: x ** 2, numbers))\n",
        "\n",
        "print(squared)  # Output: [1, 4, 9, 16]"
      ],
      "metadata": {
        "colab": {
          "base_uri": "https://localhost:8080/"
        },
        "id": "DStqzX3UfVSv",
        "outputId": "10c34ec1-470e-48dd-e495-3bf0f19db842"
      },
      "execution_count": null,
      "outputs": [
        {
          "output_type": "stream",
          "name": "stdout",
          "text": [
            "[1, 4, 9, 16]\n"
          ]
        }
      ]
    },
    {
      "cell_type": "markdown",
      "source": [
        "## 6. Nested Functions\n",
        "A nested function is a function defined inside another function. The inner function is usually used to perform some part of the outer function’s task. The inner function has access to variables in the outer function's scope.\n",
        "\n",
        "Example:"
      ],
      "metadata": {
        "id": "G6RKl4u9f1JY"
      }
    },
    {
      "cell_type": "code",
      "source": [
        "# Outer function\n",
        "def outer_function(text):\n",
        "    # Inner function\n",
        "    def inner_function():\n",
        "        return text.upper()\n",
        "    return inner_function()\n",
        "\n",
        "# Calling the outer function\n",
        "print(outer_function(\"hello\"))  # Output: HELLO"
      ],
      "metadata": {
        "colab": {
          "base_uri": "https://localhost:8080/"
        },
        "id": "p8H9TIsBfpMA",
        "outputId": "a2689fd0-c661-432e-92a8-f8a9f77f5846"
      },
      "execution_count": null,
      "outputs": [
        {
          "output_type": "stream",
          "name": "stdout",
          "text": [
            "HELLO\n"
          ]
        }
      ]
    },
    {
      "cell_type": "markdown",
      "source": [
        "## 7. Generator Functions\n",
        "A generator function is a function that returns an iterator (called a generator) which can be iterated over one value at a time. Instead of using return, generator functions use yield to return values.\n",
        "\n",
        "Example:\n"
      ],
      "metadata": {
        "id": "JZzKW1bwgCN8"
      }
    },
    {
      "cell_type": "code",
      "source": [
        "# Generator function to yield square of numbers\n",
        "def square_numbers(n):\n",
        "    for i in range(1, n + 1):\n",
        "        yield i * i\n",
        "\n",
        "# Using the generator function\n",
        "for square in square_numbers(5):\n",
        "    print(square)"
      ],
      "metadata": {
        "colab": {
          "base_uri": "https://localhost:8080/"
        },
        "id": "F2nbwxR8f3s7",
        "outputId": "7b6bb885-3af6-4a0f-a3a7-8071cb6d68e1"
      },
      "execution_count": null,
      "outputs": [
        {
          "output_type": "stream",
          "name": "stdout",
          "text": [
            "1\n",
            "4\n",
            "9\n",
            "16\n",
            "25\n"
          ]
        }
      ]
    },
    {
      "cell_type": "markdown",
      "source": [
        "## 8. Static Methods\n",
        "In Python classes, static methods are methods that do not modify the state of the class or the instance. They are used when the method logic does not need access to the self or cls parameters.\n",
        "\n",
        "Static methods are defined using the @staticmethod decorator.\n",
        "\n",
        "Example:"
      ],
      "metadata": {
        "id": "eQGtdNXEgQ_1"
      }
    },
    {
      "cell_type": "code",
      "source": [
        "class MathOperations:\n",
        "    @staticmethod\n",
        "    def add(x, y):\n",
        "        return x + y\n",
        "\n",
        "# Calling the static method\n",
        "print(MathOperations.add(5, 10))  # Output: 15"
      ],
      "metadata": {
        "colab": {
          "base_uri": "https://localhost:8080/"
        },
        "id": "my372OGFgFYw",
        "outputId": "2587fc39-b285-40c5-9f90-0a9b4493d207"
      },
      "execution_count": null,
      "outputs": [
        {
          "output_type": "stream",
          "name": "stdout",
          "text": [
            "15\n"
          ]
        }
      ]
    },
    {
      "cell_type": "markdown",
      "source": [
        "# Functions Vs Methods"
      ],
      "metadata": {
        "id": "4u9cLgLNqsxy"
      }
    },
    {
      "cell_type": "code",
      "source": [
        "# Function definition\n",
        "def greet(name):\n",
        "    return f\"Hello, {name}!\"\n",
        "\n",
        "# Function call\n",
        "message = greet(\"Arav\")\n",
        "print(message)  # Output: Hello, Arav!"
      ],
      "metadata": {
        "colab": {
          "base_uri": "https://localhost:8080/"
        },
        "id": "sRCvZ03sgUK3",
        "outputId": "3f875566-03ba-4457-ade5-18776061b600"
      },
      "execution_count": null,
      "outputs": [
        {
          "output_type": "stream",
          "name": "stdout",
          "text": [
            "Hello, Arav!\n"
          ]
        }
      ]
    },
    {
      "cell_type": "code",
      "source": [
        "# Defining a class with a method\n",
        "class Student:\n",
        "    def __init__(self, name):\n",
        "        self.name = name\n",
        "\n",
        "    # Method definition\n",
        "    def greet(self):\n",
        "        return f\"Hello, {self.name}!\"\n",
        "\n",
        "# Creating an object of the class\n",
        "student1 = Student(\"Meera\")\n",
        "\n",
        "# Calling the method on the object\n",
        "print(student1.greet())  # Output: Hello, Meera!"
      ],
      "metadata": {
        "colab": {
          "base_uri": "https://localhost:8080/"
        },
        "id": "KcVl-la4quzJ",
        "outputId": "4f331941-6372-4e24-9f43-a9ca4e6268ab"
      },
      "execution_count": null,
      "outputs": [
        {
          "output_type": "stream",
          "name": "stdout",
          "text": [
            "Hello, Meera!\n"
          ]
        }
      ]
    },
    {
      "cell_type": "markdown",
      "source": [
        "## Classes"
      ],
      "metadata": {
        "id": "Ne8tPruNy--z"
      }
    },
    {
      "cell_type": "code",
      "source": [
        "# defining a class for creating marksheet\n",
        "class Marksheet:\n",
        "  def __init__(self, name, maths, science, english=90):\n",
        "    self.name = name\n",
        "    self.maths = maths\n",
        "    self.science = science\n",
        "    self.english = english\n",
        "    total = maths + science + english\n",
        "    percentage = total/300 * 100\n",
        "\n",
        "    print(f\"Name: {self.name}\")\n",
        "    print(f\"Maths: {self.maths}\")\n",
        "    print(f\"Science: {self.science}\")\n",
        "    print(f\"English: {self.english}\")\n",
        "    print(f\"Total: {total}\")\n",
        "    print(f\"Percentage: {percentage}%\")\n",
        "\n",
        "    if percentage >= 90:\n",
        "      print(\"Grade: A\")\n",
        "    elif percentage >= 80:\n",
        "      print(\"Grade: B\")\n",
        "    elif percentage >= 70:\n",
        "      print(\"Grade: C\")\n",
        "    elif percentage >= 33:\n",
        "      print(\"Grade: D\")\n",
        "    else:\n",
        "      print(\"Grade: Fail\")\n",
        "\n",
        "# creating a new object as student \"Manoj\"\n",
        "student1 = Marksheet(\"Manoj\",20, 30,40)"
      ],
      "metadata": {
        "colab": {
          "base_uri": "https://localhost:8080/"
        },
        "id": "O90wlhEWSx8t",
        "outputId": "3af72036-cc7c-4189-d08d-ba72b791e3ab"
      },
      "execution_count": null,
      "outputs": [
        {
          "output_type": "stream",
          "name": "stdout",
          "text": [
            "Name: Manoj\n",
            "Maths: 20\n",
            "Science: 30\n",
            "English: 40\n",
            "Total: 90\n",
            "Percentage: 30.0%\n",
            "Grade: Fail\n"
          ]
        }
      ]
    },
    {
      "cell_type": "code",
      "source": [
        "# creating a new object as student \"Manoj\"\n",
        "student1 = Marksheet(\"Shriya\",90, 90,80)"
      ],
      "metadata": {
        "colab": {
          "base_uri": "https://localhost:8080/"
        },
        "id": "zhS0F7Dhe0Xl",
        "outputId": "58a52e66-39c4-4abd-da63-36a1f2fb421b"
      },
      "execution_count": null,
      "outputs": [
        {
          "output_type": "stream",
          "name": "stdout",
          "text": [
            "Name: Shriya\n",
            "Maths: 90\n",
            "Science: 90\n",
            "English: 80\n",
            "Total: 260\n",
            "Percentage: 86.66666666666667%\n",
            "Grade: B\n"
          ]
        }
      ]
    },
    {
      "cell_type": "code",
      "source": [
        "# Defining the Marksheet class\n",
        "class Marksheet:\n",
        "    def __init__(self, name, maths, science, english=90):\n",
        "        self.name = name\n",
        "        self.maths = maths\n",
        "        self.science = science\n",
        "        self.english = english\n",
        "        self.total = self.maths + self.science + self.english\n",
        "        self.percentage = (self.total / 300) * 100\n",
        "        self.grade = self.calculate_grade()\n",
        "        self.display_marksheet()\n",
        "\n",
        "    # Method to calculate the grade based on percentage\n",
        "    def calculate_grade(self):\n",
        "        if self.percentage >= 90:\n",
        "            return \"A\"\n",
        "        elif self.percentage >= 80:\n",
        "            return \"B\"\n",
        "        elif self.percentage >= 70:\n",
        "            return \"C\"\n",
        "        elif self.percentage >= 33:\n",
        "            return \"D\"\n",
        "        else:\n",
        "            return \"Fail\"\n",
        "\n",
        "    # Method to display the marksheet\n",
        "    def display_marksheet(self):\n",
        "        print(f\"\\nName: {self.name}\")\n",
        "        print(f\"Maths: {self.maths}\")\n",
        "        print(f\"Science: {self.science}\")\n",
        "        print(f\"English: {self.english}\")\n",
        "        print(f\"Total: {self.total}\")\n",
        "        print(f\"Percentage: {self.percentage:.2f}%\")\n",
        "        print(f\"Grade: {self.grade}\")\n",
        "\n",
        "# Creating a list of student data\n",
        "students_data = [\n",
        "    {\"name\": \"Aarav\", \"maths\": 85, \"science\": 90, \"english\": 88},\n",
        "    {\"name\": \"Vivaan\", \"maths\": 92, \"science\": 84, \"english\": 91},\n",
        "    {\"name\": \"Diya\", \"maths\": 78, \"science\": 79, \"english\": 76},\n",
        "    {\"name\": \"Anika\", \"maths\": 88, \"science\": 85, \"english\": 82},\n",
        "    {\"name\": \"Ishaan\", \"maths\": 91, \"science\": 92, \"english\": 90},\n",
        "    {\"name\": \"Myra\", \"maths\": 76, \"science\": 80, \"english\": 84},\n",
        "    {\"name\": \"Kabir\", \"maths\": 89, \"science\": 88, \"english\": 87},\n",
        "    {\"name\": \"Riya\", \"maths\": 83, \"science\": 86, \"english\": 79},\n",
        "    {\"name\": \"Aryan\", \"maths\": 95, \"science\": 93, \"english\": 92},\n",
        "    {\"name\": \"Tara\", \"maths\": 87, \"science\": 82, \"english\": 85}\n",
        "]\n",
        "\n",
        "# Generate marksheets for all students\n",
        "for student in students_data:\n",
        "    Marksheet(student[\"name\"], student[\"maths\"], student[\"science\"], student[\"english\"])"
      ],
      "metadata": {
        "colab": {
          "base_uri": "https://localhost:8080/"
        },
        "id": "J8Xvr_GPnRvy",
        "outputId": "40d0bb73-3493-4787-c9a2-297d70681887"
      },
      "execution_count": 73,
      "outputs": [
        {
          "output_type": "stream",
          "name": "stdout",
          "text": [
            "\n",
            "Name: Aarav\n",
            "Maths: 85\n",
            "Science: 90\n",
            "English: 88\n",
            "Total: 263\n",
            "Percentage: 87.67%\n",
            "Grade: B\n",
            "\n",
            "Name: Vivaan\n",
            "Maths: 92\n",
            "Science: 84\n",
            "English: 91\n",
            "Total: 267\n",
            "Percentage: 89.00%\n",
            "Grade: B\n",
            "\n",
            "Name: Diya\n",
            "Maths: 78\n",
            "Science: 79\n",
            "English: 76\n",
            "Total: 233\n",
            "Percentage: 77.67%\n",
            "Grade: C\n",
            "\n",
            "Name: Anika\n",
            "Maths: 88\n",
            "Science: 85\n",
            "English: 82\n",
            "Total: 255\n",
            "Percentage: 85.00%\n",
            "Grade: B\n",
            "\n",
            "Name: Ishaan\n",
            "Maths: 91\n",
            "Science: 92\n",
            "English: 90\n",
            "Total: 273\n",
            "Percentage: 91.00%\n",
            "Grade: A\n",
            "\n",
            "Name: Myra\n",
            "Maths: 76\n",
            "Science: 80\n",
            "English: 84\n",
            "Total: 240\n",
            "Percentage: 80.00%\n",
            "Grade: B\n",
            "\n",
            "Name: Kabir\n",
            "Maths: 89\n",
            "Science: 88\n",
            "English: 87\n",
            "Total: 264\n",
            "Percentage: 88.00%\n",
            "Grade: B\n",
            "\n",
            "Name: Riya\n",
            "Maths: 83\n",
            "Science: 86\n",
            "English: 79\n",
            "Total: 248\n",
            "Percentage: 82.67%\n",
            "Grade: B\n",
            "\n",
            "Name: Aryan\n",
            "Maths: 95\n",
            "Science: 93\n",
            "English: 92\n",
            "Total: 280\n",
            "Percentage: 93.33%\n",
            "Grade: A\n",
            "\n",
            "Name: Tara\n",
            "Maths: 87\n",
            "Science: 82\n",
            "English: 85\n",
            "Total: 254\n",
            "Percentage: 84.67%\n",
            "Grade: B\n"
          ]
        }
      ]
    },
    {
      "cell_type": "code",
      "source": [
        "def introduce(name, age):\n",
        "        return f\"My name is {name} and I am {age} years old.\"\n",
        "\n",
        "introduce(\"Meera\",16)"
      ],
      "metadata": {
        "colab": {
          "base_uri": "https://localhost:8080/",
          "height": 36
        },
        "id": "3A-oWmi_gqFE",
        "outputId": "5abb1d31-f51d-4839-da29-aed53160cc90"
      },
      "execution_count": null,
      "outputs": [
        {
          "output_type": "execute_result",
          "data": {
            "text/plain": [
              "'My name is Meera and I am 16 years old.'"
            ],
            "application/vnd.google.colaboratory.intrinsic+json": {
              "type": "string"
            }
          },
          "metadata": {},
          "execution_count": 59
        }
      ]
    },
    {
      "cell_type": "code",
      "source": [
        "# Defining a class\n",
        "class Student:\n",
        "    def __init__(self, name, age):\n",
        "        self.name = name\n",
        "        self.age = age\n",
        "\n",
        "    def introduce(self):\n",
        "        return f\"My name is {self.name} and I am {self.age} years old.\"\n",
        "\n",
        "# Creating an object of the class\n",
        "student1 = Student(\"Meera\", 16)\n",
        "\n",
        "# Calling the method\n",
        "print(student1.introduce())"
      ],
      "metadata": {
        "colab": {
          "base_uri": "https://localhost:8080/"
        },
        "id": "dkSfYgugqxsY",
        "outputId": "1a1b707a-71c7-448e-abca-01b85d8a7cf8"
      },
      "execution_count": null,
      "outputs": [
        {
          "output_type": "stream",
          "name": "stdout",
          "text": [
            "My name is Meera and I am 16 years old.\n"
          ]
        }
      ]
    },
    {
      "cell_type": "code",
      "source": [
        "class Student:\n",
        "    def __init__(self, name, age):\n",
        "        self.name = name  # Assigning name to the object\n",
        "        self.age = age    # Assigning age to the object\n",
        "\n",
        "# Creating an object of the Student class\n",
        "student1 = Student(\"Arav\", 15)\n",
        "\n",
        "# Accessing the object's attributes\n",
        "print(student1.name)  # Output: Arav\n",
        "print(student1.age)   # Output: 15"
      ],
      "metadata": {
        "colab": {
          "base_uri": "https://localhost:8080/"
        },
        "id": "xO0Me9tyzBht",
        "outputId": "9fd2bc36-be2d-4929-cd47-524d87e5d547"
      },
      "execution_count": null,
      "outputs": [
        {
          "output_type": "stream",
          "name": "stdout",
          "text": [
            "Arav\n",
            "15\n"
          ]
        }
      ]
    },
    {
      "cell_type": "markdown",
      "source": [
        "# Objects"
      ],
      "metadata": {
        "id": "jT8lTm9DGSa5"
      }
    },
    {
      "cell_type": "code",
      "source": [
        "# Creating multiple objects\n",
        "student1 = Student(\"Meera\", 16)\n",
        "student2 = Student(\"Rahul\", 17)\n",
        "\n",
        "# Accessing object attributes and methods\n",
        "print(student1.name)  # Output: Meera\n",
        "print(student2.introduce())  # Output: My name is Rahul and I am 17 years old."
      ],
      "metadata": {
        "colab": {
          "base_uri": "https://localhost:8080/"
        },
        "id": "RgSz71643BUD",
        "outputId": "9666fdd8-aed8-4bb8-8cea-d9ac23dd1d46"
      },
      "execution_count": null,
      "outputs": [
        {
          "output_type": "stream",
          "name": "stdout",
          "text": [
            "Meera\n",
            "My name is Rahul and I am 17 years old.\n"
          ]
        }
      ]
    },
    {
      "cell_type": "markdown",
      "source": [
        "## Class Methods vs Instance Methods"
      ],
      "metadata": {
        "id": "thaI_v2OKCMo"
      }
    },
    {
      "cell_type": "code",
      "source": [
        "class School:\n",
        "    school_name = \"ABC School\"\n",
        "\n",
        "    def __init__(self, name):\n",
        "        self.name = name\n",
        "\n",
        "    @classmethod\n",
        "    def get_school_name(cls):\n",
        "        return cls.school_name\n",
        "\n",
        "# Accessing class method\n",
        "print(School.get_school_name())  # Output: ABC School"
      ],
      "metadata": {
        "colab": {
          "base_uri": "https://localhost:8080/"
        },
        "id": "hKWeN4WNGUaU",
        "outputId": "7f69525f-baef-48a0-af51-84447bfbc4f5"
      },
      "execution_count": null,
      "outputs": [
        {
          "output_type": "stream",
          "name": "stdout",
          "text": [
            "ABC School\n"
          ]
        }
      ]
    },
    {
      "cell_type": "markdown",
      "source": [
        "## Inheritance\n",
        "\n",
        "Inheritance allows a class (child class) to inherit attributes and methods from another class (parent class). This helps in reusing code and building upon existing functionality."
      ],
      "metadata": {
        "id": "5iIOWTLsKcG2"
      }
    },
    {
      "cell_type": "code",
      "source": [
        "# Parent Class\n",
        "class Person:\n",
        "    def __init__(self, name):\n",
        "        self.name = name\n",
        "\n",
        "    def speak(self):\n",
        "        return f\"My name is {self.name}.\"\n",
        "\n",
        "# Child Class inheriting from Parent Class\n",
        "class Student(Person):\n",
        "    def __init__(self, name, grade):\n",
        "        super().__init__(name)\n",
        "        # Inherit the 'name' attribute from the parent class\n",
        "        self.grade = grade\n",
        "\n",
        "    def details(self):\n",
        "        return f\"{self.speak()} I am in grade {self.grade}.\"\n",
        "\n",
        "# Creating an object of the Child Class\n",
        "student = Student(\"Mohit\", 10)\n",
        "print(student.details())"
      ],
      "metadata": {
        "colab": {
          "base_uri": "https://localhost:8080/"
        },
        "id": "JPi0G11fKIqI",
        "outputId": "b964b34d-d188-4cf8-c019-79eddb862db4"
      },
      "execution_count": null,
      "outputs": [
        {
          "output_type": "stream",
          "name": "stdout",
          "text": [
            "My name is Mohit. I am in grade 10.\n"
          ]
        }
      ]
    },
    {
      "cell_type": "markdown",
      "source": [
        "## 6. Polymorphism\n",
        "Polymorphism allows different classes to have methods with the same name but potentially different implementations. This allows functions to work on objects of different types in the same way."
      ],
      "metadata": {
        "id": "7JHvCTOFLl91"
      }
    },
    {
      "cell_type": "code",
      "source": [
        "class Dog:\n",
        "    def sound(self):\n",
        "        return \"Bark\"\n",
        "\n",
        "class Cat:\n",
        "    def sound(self):\n",
        "        return \"Meow\"\n",
        "\n",
        "# Function that uses polymorphism\n",
        "def make_sound(animal):\n",
        "    return animal.sound()\n",
        "\n",
        "dog = Dog()\n",
        "cat = Cat()\n",
        "\n",
        "print(make_sound(dog))  # Output: Bark\n",
        "print(make_sound(cat))  # Output: Meow"
      ],
      "metadata": {
        "colab": {
          "base_uri": "https://localhost:8080/"
        },
        "id": "atnyd09fKLT-",
        "outputId": "1da3af6c-86d1-4fd1-de32-71e0bbf75a32"
      },
      "execution_count": null,
      "outputs": [
        {
          "output_type": "stream",
          "name": "stdout",
          "text": [
            "Bark\n",
            "Meow\n"
          ]
        }
      ]
    },
    {
      "cell_type": "code",
      "source": [],
      "metadata": {
        "id": "ETz8-aEVnSkR"
      },
      "execution_count": null,
      "outputs": []
    }
  ]
}