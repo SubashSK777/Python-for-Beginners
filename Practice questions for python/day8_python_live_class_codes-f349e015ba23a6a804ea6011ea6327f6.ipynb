{
  "nbformat": 4,
  "nbformat_minor": 0,
  "metadata": {
    "colab": {
      "provenance": []
    },
    "kernelspec": {
      "name": "python3",
      "display_name": "Python 3"
    },
    "language_info": {
      "name": "python"
    }
  },
  "cells": [
    {
      "cell_type": "markdown",
      "source": [
        "# Regular Expressions (REGEX) in Python\n"
      ],
      "metadata": {
        "id": "KTxhytYARrUG"
      }
    },
    {
      "cell_type": "markdown",
      "source": [
        "## Basic Example of RegEx in Python:"
      ],
      "metadata": {
        "id": "66wRntueRtSV"
      }
    },
    {
      "cell_type": "code",
      "execution_count": 2,
      "metadata": {
        "colab": {
          "base_uri": "https://localhost:8080/"
        },
        "id": "-dMEC7WgRjkr",
        "outputId": "bb7d07da-6884-49f6-ba44-948dfc2c2a95"
      },
      "outputs": [
        {
          "output_type": "stream",
          "name": "stdout",
          "text": [
            "Found a match: 100\n"
          ]
        }
      ],
      "source": [
        "import re\n",
        "\n",
        "# Example string\n",
        "text = \"The price is 100 dollars for 2 items\"\n",
        "\n",
        "# Using re.search() to find a pattern\n",
        "result = re.search(r\"\\d+\", text)  # Find one or more digits in the string\n",
        "\n",
        "# Output the matched pattern\n",
        "if result:\n",
        "    print(f\"Found a match: {result.group()}\")  # Output: Found a match: 100"
      ]
    },
    {
      "cell_type": "markdown",
      "source": [
        "## RegEx Functions in Python"
      ],
      "metadata": {
        "id": "20-e0-Lrco-a"
      }
    },
    {
      "cell_type": "markdown",
      "source": [
        "## 1. re.search()\n",
        "The re.search() function searches for the first occurrence of a pattern in a string. It returns a match object if a match is found, otherwise, it returns None."
      ],
      "metadata": {
        "id": "n3n1aSVgcnun"
      }
    },
    {
      "cell_type": "code",
      "source": [
        "import re\n",
        "\n",
        "text = \"The price is 100 dollars\"\n",
        "\n",
        "# Search for a number in the text\n",
        "result = re.search(r\"\\d+\", text)\n",
        "if result:\n",
        "    print(f\"Found: {result.group()}\")  # Output: Found: 100"
      ],
      "metadata": {
        "colab": {
          "base_uri": "https://localhost:8080/"
        },
        "id": "DGl8S334assK",
        "outputId": "54f0c9cf-1728-4602-c2a8-d3340240a881"
      },
      "execution_count": 3,
      "outputs": [
        {
          "output_type": "stream",
          "name": "stdout",
          "text": [
            "Found: 100\n"
          ]
        }
      ]
    },
    {
      "cell_type": "code",
      "source": [
        "text = \"Welcome to the Python Live Class for RegEx Module\"\n",
        "\n",
        "pattern = r\"Python\"\n",
        "\n",
        "result = re.search(pattern, text)\n",
        "\n",
        "if result:\n",
        "    print(\"Pattern found:\", result.group())\n",
        "else:\n",
        "    print(\"Pattern not found\")"
      ],
      "metadata": {
        "colab": {
          "base_uri": "https://localhost:8080/"
        },
        "id": "G23906R3Ub-D",
        "outputId": "87a0f83b-90e1-4c76-c2d4-75575fc7d9fb"
      },
      "execution_count": 6,
      "outputs": [
        {
          "output_type": "stream",
          "name": "stdout",
          "text": [
            "Pattern found: Python\n"
          ]
        }
      ]
    },
    {
      "cell_type": "markdown",
      "source": [
        "## 2. re.match()\n",
        "The re.match() function checks for a match only at the beginning of the string. It returns a match object if the pattern matches at the start, otherwise, it returns None.\n",
        "\n",
        "Example:"
      ],
      "metadata": {
        "id": "obyjLc1qc4Mz"
      }
    },
    {
      "cell_type": "code",
      "source": [
        "import re\n",
        "\n",
        "text = \"Hello world!\"\n",
        "\n",
        "# Match the beginning of the string\n",
        "result = re.match(r\"Hello\", text)\n",
        "if result:\n",
        "    print(\"Matched!\")  # Output: Matched!"
      ],
      "metadata": {
        "colab": {
          "base_uri": "https://localhost:8080/"
        },
        "id": "p7iRFYkhcuIW",
        "outputId": "0aa96b1a-8968-4c91-ec74-4032b1fa4c75"
      },
      "execution_count": 7,
      "outputs": [
        {
          "output_type": "stream",
          "name": "stdout",
          "text": [
            "Matched!\n"
          ]
        }
      ]
    },
    {
      "cell_type": "markdown",
      "source": [
        "## 3. re.findall()\n",
        "The re.findall() function returns a list of all non-overlapping matches of a pattern in a string.\n",
        "\n",
        "Example:"
      ],
      "metadata": {
        "id": "kXSxIjFZdNtq"
      }
    },
    {
      "cell_type": "code",
      "source": [
        "import re\n",
        "\n",
        "text = \"Contact us at support@example.com or info@example.com\"\n",
        "\n",
        "em = []\n",
        "\n",
        "emails = re.findall(r\"[a-zA-Z0-9._%+-]+@[a-zA-Z0-9.-]+\\.[a-zA-Z]{2,}\", text)\n",
        "\n",
        "if emails:\n",
        "    for email in emails:\n",
        "        em.append(email)\n",
        "print(\"Final Matching Emails: \",em)"
      ],
      "metadata": {
        "colab": {
          "base_uri": "https://localhost:8080/"
        },
        "id": "gSWeqzuaXy1G",
        "outputId": "e0251822-6259-47b6-88b6-e220ec7f8441"
      },
      "execution_count": 17,
      "outputs": [
        {
          "output_type": "stream",
          "name": "stdout",
          "text": [
            "Final Matching Emails:  ['support@example.com', 'info@example.com']\n"
          ]
        }
      ]
    },
    {
      "cell_type": "markdown",
      "source": [
        "## 4. re.sub()\n",
        "The re.sub() function is used to substitute or replace all matches of a pattern with a new string.\n",
        "\n",
        "Example:"
      ],
      "metadata": {
        "id": "xY3HyGaDdh3A"
      }
    },
    {
      "cell_type": "code",
      "source": [
        "import re\n",
        "\n",
        "text = \"The price is 100 dollars\"\n",
        "\n",
        "# Replace the price with another value\n",
        "new_text = re.sub(r\"\\d+\", \"200\", text)\n",
        "print(new_text)  # Output: The price is 200 dollars"
      ],
      "metadata": {
        "colab": {
          "base_uri": "https://localhost:8080/"
        },
        "id": "hZenC1DXdP11",
        "outputId": "cfbe788e-2e52-41a6-d141-81b8e781ffb4"
      },
      "execution_count": 18,
      "outputs": [
        {
          "output_type": "stream",
          "name": "stdout",
          "text": [
            "The price is 200 dollars\n"
          ]
        }
      ]
    },
    {
      "cell_type": "markdown",
      "source": [
        "## Examples of Regular Expressions\n",
        "\n",
        "##1. Validating an Email Address"
      ],
      "metadata": {
        "id": "grqYbizPeCje"
      }
    },
    {
      "cell_type": "code",
      "source": [
        "import re\n",
        "\n",
        "email = \"example@test.com\"\n",
        "\n",
        "# Regular expression to validate an email\n",
        "pattern = r\"^[a-zA-Z0-9._%+-]+@[a-zA-Z0-9.-]+\\.[a-zA-Z]{2,}$\"\n",
        "\n",
        "if re.match(pattern, email):\n",
        "    print(\"Valid email address\")\n",
        "else:\n",
        "    print(\"Invalid email address\")"
      ],
      "metadata": {
        "colab": {
          "base_uri": "https://localhost:8080/"
        },
        "id": "yYNvMzvpdksG",
        "outputId": "b271cbdb-0755-44f0-f7a6-5859c8f7848e"
      },
      "execution_count": 19,
      "outputs": [
        {
          "output_type": "stream",
          "name": "stdout",
          "text": [
            "Valid email address\n"
          ]
        }
      ]
    },
    {
      "cell_type": "markdown",
      "source": [
        "## 2. Extracting Phone Numbers"
      ],
      "metadata": {
        "id": "AT-VCY0lePkJ"
      }
    },
    {
      "cell_type": "code",
      "source": [
        "import re\n",
        "\n",
        "text = \"Call me at +1-202-555-0125 or +91-9876543210\"\n",
        "\n",
        "# Regular expression to find phone numbers\n",
        "phone_numbers = re.findall(r\"\\+\\d{1,2}-\\d{3}-\\d{3}-\\d{4}|\\+\\d{2}-\\d{10}\", text)\n",
        "print(phone_numbers)  # Output: ['+1-202-555-0125', '+91-9876543210']"
      ],
      "metadata": {
        "colab": {
          "base_uri": "https://localhost:8080/"
        },
        "id": "RWLbkPBreFo1",
        "outputId": "ec7298af-a9c8-46aa-94d3-245ac0c35f32"
      },
      "execution_count": 20,
      "outputs": [
        {
          "output_type": "stream",
          "name": "stdout",
          "text": [
            "['+1-202-555-0125', '+91-9876543210']\n"
          ]
        }
      ]
    },
    {
      "cell_type": "markdown",
      "source": [
        "## 3. Finding Dates in Text"
      ],
      "metadata": {
        "id": "pQ6R0jHzeeDl"
      }
    },
    {
      "cell_type": "code",
      "source": [
        "import re\n",
        "\n",
        "text = \"Today's date is 14-09-2024, and the event is on 21-09-2024.\"\n",
        "\n",
        "# Regular expression to find dates in DD-MM-YYYY format\n",
        "dates = re.findall(r\"\\d{2}-\\d{2}-\\d{4}\", text)\n",
        "print(dates)  # Output: ['14-09-2024', '21-09-2024']"
      ],
      "metadata": {
        "colab": {
          "base_uri": "https://localhost:8080/"
        },
        "id": "fBOBysMFeSK1",
        "outputId": "658f0176-f398-4c49-80ff-7e3c92d65ab8"
      },
      "execution_count": 21,
      "outputs": [
        {
          "output_type": "stream",
          "name": "stdout",
          "text": [
            "['14-09-2024', '21-09-2024']\n"
          ]
        }
      ]
    },
    {
      "cell_type": "code",
      "source": [
        "#Password Validation\n",
        "\n",
        "password = \"P@ssw0rd\"\n",
        "\n",
        "# user input as password to apply this regex method\n",
        "\n",
        "text = input(\"Enter your password: \")\n",
        "\n",
        "pattern = r\"^(?=.*[a-z])(?=.*[A-Z])(?=.*\\d)(?=.*[@$!%*?&])[A-Za-z\\d@$!%*?&]{8,}$\"\n",
        "\n",
        "# condition or rules to define the password using regex\n",
        "#1. Must contain at least one uppercase letter.\n",
        "#2. Must contain at least one lowercase letter.\n",
        "#3. Must contain at least one digit.\n",
        "#4. Must contain at least one special character.\n",
        "#5. Must be at least 8 characters long.\n",
        "\n",
        "if re.match(pattern, text):\n",
        "    print(\"Valid password\")\n",
        "else:\n",
        "    print(\"Invalid password\")"
      ],
      "metadata": {
        "id": "FqYtdUqXeg5P",
        "colab": {
          "base_uri": "https://localhost:8080/"
        },
        "outputId": "1902da9c-8e7f-4175-deaf-ef04eb96eb08"
      },
      "execution_count": 24,
      "outputs": [
        {
          "output_type": "stream",
          "name": "stdout",
          "text": [
            "Enter your password: P@ssw0rd\n",
            "Valid password\n"
          ]
        }
      ]
    },
    {
      "cell_type": "code",
      "source": [
        "defined_password = \"P@ssw0rd\"\n",
        "\n",
        "def validate_password(password):\n",
        "  pattern = r\"^(?=.*[a-z])(?=.*[A-Z])(?=.*\\d)(?=.*[@$!%*?&])[A-Za-z\\d@$!%*?&]{8,}$\"\n",
        "\n",
        "  return re.match(pattern, password) is not None\n",
        "\n",
        "#User Input\n",
        "user_input = input(\"Enter your password: \")\n",
        "\n",
        "if user_input == defined_password:\n",
        "    print(\"Password is correct\")\n",
        "elif validate_password(user_input):\n",
        "    print(\"Password is valid\")\n",
        "else:\n",
        "    print(\"Password is invalid\")"
      ],
      "metadata": {
        "colab": {
          "base_uri": "https://localhost:8080/"
        },
        "id": "B51LVzdgb1hM",
        "outputId": "f8ad7d1e-2d2d-4617-d4ef-8c0b5341dca9"
      },
      "execution_count": 26,
      "outputs": [
        {
          "output_type": "stream",
          "name": "stdout",
          "text": [
            "Enter your password: P@ssw0rd\n",
            "Password is correct\n"
          ]
        }
      ]
    }
  ]
}