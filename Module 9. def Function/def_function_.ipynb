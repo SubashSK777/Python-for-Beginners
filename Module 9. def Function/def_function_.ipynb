{
  "nbformat": 4,
  "nbformat_minor": 0,
  "metadata": {
    "colab": {
      "provenance": []
    },
    "kernelspec": {
      "name": "python3",
      "display_name": "Python 3"
    },
    "language_info": {
      "name": "python"
    }
  },
  "cells": [
    {
      "cell_type": "markdown",
      "source": [
        "# Definition of def Function in Python:\n",
        "\n",
        "In Python, a function is a block of reusable code that is used to perform a specific task. Functions help organize and manage code efficiently, especially when certain tasks need to be executed multiple times in a program. The keyword def is used to define a function.\n",
        "\n",
        "The general syntax for defining a function is:"
      ],
      "metadata": {
        "id": "ydYIatNv3kO_"
      }
    },
    {
      "cell_type": "code",
      "source": [
        "def function_name(parameters):\n",
        "    \"\"\"\n",
        "    Optional docstring to describe what the function does.\n",
        "    \"\"\"\n",
        "    # Code block of the function\n",
        "    return result  # Optional return statement\n"
      ],
      "metadata": {
        "id": "5QyLwEpb3wtU"
      },
      "execution_count": 12,
      "outputs": []
    },
    {
      "cell_type": "markdown",
      "source": [
        "# Why Do We Use the def Function in Python?\n",
        "\n",
        "\n",
        "# 1. Code Reusability:\n",
        "\n",
        "One of the main reasons to use functions is reusability. Instead of writing the same code multiple times, you can define a function once and call it whenever needed.\n",
        "\n",
        "Example:"
      ],
      "metadata": {
        "id": "QaQf-V8x4YZZ"
      }
    },
    {
      "cell_type": "code",
      "source": [
        "def greet(name):\n",
        "    print(f\"Hello, {name}!\")\n",
        "\n",
        "greet(\"Alice\")\n",
        "greet(\"Bob\")\n",
        "# You can call the greet function multiple times with different names\n"
      ],
      "metadata": {
        "colab": {
          "base_uri": "https://localhost:8080/"
        },
        "id": "TENokI2d4dup",
        "outputId": "2c095f25-78cc-4008-f541-d0ccf0a025ab"
      },
      "execution_count": 13,
      "outputs": [
        {
          "output_type": "stream",
          "name": "stdout",
          "text": [
            "Hello, Alice!\n",
            "Hello, Bob!\n"
          ]
        }
      ]
    },
    {
      "cell_type": "markdown",
      "source": [
        "# 2. Modularity:\n",
        "\n",
        "Functions help break down a complex problem into smaller, manageable pieces. Each function can handle a specific task, making the program easier to understand and maintain.\n",
        "\n",
        "Example:"
      ],
      "metadata": {
        "id": "5ercyRKf4tHV"
      }
    },
    {
      "cell_type": "code",
      "source": [
        "def calculate_area(length, width):\n",
        "    return length * width\n",
        "\n",
        "area = calculate_area(5, 3)\n",
        "print(f\"Area: {area}\")\n"
      ],
      "metadata": {
        "colab": {
          "base_uri": "https://localhost:8080/"
        },
        "id": "UYj_B9qr4wsE",
        "outputId": "cd36b54e-b973-4a34-ec79-b84abca4e116"
      },
      "execution_count": 14,
      "outputs": [
        {
          "output_type": "stream",
          "name": "stdout",
          "text": [
            "Area: 15\n"
          ]
        }
      ]
    },
    {
      "cell_type": "markdown",
      "source": [
        "# 3. Avoid Repetition:\n",
        "\n",
        "Instead of writing repetitive code, functions allow you to execute the same code with different inputs.\n",
        "\n",
        "Example:"
      ],
      "metadata": {
        "id": "61Oz7qkg43RZ"
      }
    },
    {
      "cell_type": "code",
      "source": [
        "def add_numbers(a, b):\n",
        "    return a + b\n",
        "\n",
        "print(add_numbers(5, 10))\n",
        "print(add_numbers(3, 7))\n"
      ],
      "metadata": {
        "colab": {
          "base_uri": "https://localhost:8080/"
        },
        "id": "0pq_zByq46im",
        "outputId": "7461bc2d-ad84-4c6b-e9bc-d73b7a33f43e"
      },
      "execution_count": 15,
      "outputs": [
        {
          "output_type": "stream",
          "name": "stdout",
          "text": [
            "15\n",
            "10\n"
          ]
        }
      ]
    },
    {
      "cell_type": "markdown",
      "source": [
        "# 4. Clarity and Organization:\n",
        "\n",
        " Using functions allows your code to be more organized and readable. Each function serves a single purpose, making it easier to understand what each part of the code is doing.\n",
        "\n",
        "# 5. Scalability:\n",
        "\n",
        " As projects grow larger, managing the code becomes more complex. By organizing code into functions, it's easier to scale and make changes without affecting other parts of the program."
      ],
      "metadata": {
        "id": "WXyk_h7b5DAg"
      }
    }
  ]
}