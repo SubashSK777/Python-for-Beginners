{
  "nbformat": 4,
  "nbformat_minor": 0,
  "metadata": {
    "colab": {
      "provenance": []
    },
    "kernelspec": {
      "name": "python3",
      "display_name": "Python 3"
    },
    "language_info": {
      "name": "python"
    }
  },
  "cells": [
    {
      "cell_type": "markdown",
      "source": [
        "# Data Types in Python\n",
        "In Python, data types can be categorized as mutable and immutable based on whether their values can be changed after they are created.\n",
        "Mutable\n",
        "Immutable\n",
        "1. Mutable\n",
        "Definition: Mutable data types allow modifications after their creation. You can change, add, or remove elements without creating a new object.\n",
        "Examples: Lists, Dictionaries, Sets\n",
        "2. Immutable\n",
        "Definition: Immutable data types do not allow any modifications after their creation. If you attempt to change them, you need to create a new object.\n",
        "Examples: Strings, Tuples, Integers"
      ],
      "metadata": {
        "id": "SVt6dIirvI-h"
      }
    },
    {
      "cell_type": "markdown",
      "source": [
        "Mutable Data Types\n",
        "# 1. List\n",
        "A list is a collection of ordered, changeable and indexed Elements. You can store different types of data in a list."
      ],
      "metadata": {
        "id": "DYllNB-AARYo"
      }
    },
    {
      "cell_type": "code",
      "source": [
        "# Creating a list\n",
        "my_list = [1, 2, 3, 4, 5]\n",
        "\n",
        "# Adding an element\n",
        "my_list.append(6)\n",
        "\n",
        "# Removing an element\n",
        "my_list.remove(3)\n",
        "\n",
        "# Accessing an element\n",
        "print(my_list[2])  # Output: 4\n",
        "\n",
        "\n",
        "print(my_list)  # Output: [1, 2, 4, 5, 6]\n"
      ],
      "metadata": {
        "colab": {
          "base_uri": "https://localhost:8080/"
        },
        "id": "ZTPzT55SBm1Y",
        "outputId": "fd7a926c-176f-4b50-c7eb-88fa8741c158"
      },
      "execution_count": 2,
      "outputs": [
        {
          "output_type": "stream",
          "name": "stdout",
          "text": [
            "4\n",
            "[1, 2, 4, 5, 6]\n"
          ]
        }
      ]
    },
    {
      "cell_type": "markdown",
      "source": [
        "**2. Set**\n",
        "\n",
        "\n",
        "A set is a collection of unordered, unique items. Sets are useful for storing elements without duplicates."
      ],
      "metadata": {
        "id": "x4Qkw3pXFYRS"
      }
    },
    {
      "cell_type": "code",
      "source": [
        "# Creating a set\n",
        "my_set = {1, 2, 3, 'apple', 'banana'}\n",
        "\n",
        "# Adding an element\n",
        "my_set.add('cherry')\n",
        "\n",
        "# Removing an element\n",
        "my_set.remove(2)\n",
        "\n",
        "# Checking for membership\n",
        "print('banana' in my_set)  # Output: True\n",
        "\n",
        "print(my_set)  # Output: {1, 3, 'apple', 'banana', 'cherry'}\n"
      ],
      "metadata": {
        "colab": {
          "base_uri": "https://localhost:8080/"
        },
        "id": "j7CD4-M-Fc0a",
        "outputId": "ff044b10-8c32-4f5e-e31e-74eedeb6505a"
      },
      "execution_count": 3,
      "outputs": [
        {
          "output_type": "stream",
          "name": "stdout",
          "text": [
            "True\n",
            "{1, 3, 'banana', 'cherry', 'apple'}\n"
          ]
        }
      ]
    },
    {
      "cell_type": "markdown",
      "source": [
        "**3. Dictionary**\n",
        "\n",
        "A dictionary is a collection of key-value pairs. Each key is unique, and values can be of any data type."
      ],
      "metadata": {
        "id": "HR2o6dWlF089"
      }
    },
    {
      "cell_type": "code",
      "source": [
        "# Creating a dictionary\n",
        "my_dict = {'name': 'Alice', 'age': 25, 'city': 'New York'}\n",
        "\n",
        "# Adding a key-value pair\n",
        "my_dict['email'] = 'alice@example.com'\n",
        "\n",
        "# Removing a key-value pair\n",
        "del my_dict['age']\n",
        "\n",
        "# Accessing a value\n",
        "print(my_dict['name'])  # Output: Alice\n",
        "\n",
        "print(my_dict)  # Output: {'name': 'Alice', 'city': 'New York', 'email': 'rohan@example.com'}\n"
      ],
      "metadata": {
        "colab": {
          "base_uri": "https://localhost:8080/"
        },
        "id": "A24BmnrdF9zt",
        "outputId": "95b0d27d-8e4a-4b0d-9e43-dfab05027e48"
      },
      "execution_count": 6,
      "outputs": [
        {
          "output_type": "stream",
          "name": "stdout",
          "text": [
            "Alice\n",
            "{'name': 'Alice', 'city': 'New York', 'email': 'alice@example.com'}\n"
          ]
        }
      ]
    }
  ]
}