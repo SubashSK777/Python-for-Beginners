{
  "nbformat": 4,
  "nbformat_minor": 0,
  "metadata": {
    "colab": {
      "provenance": []
    },
    "kernelspec": {
      "name": "python3",
      "display_name": "Python 3"
    }
  },
  "cells": [
    {
      "cell_type": "markdown",
      "metadata": {
        "id": "Iz8UYDjzxFvg"
      },
      "source": [
        "# Python Conditional Statement :  If ... Else Statement\n",
        "\n",
        "**Python Conditional Operators (conditions)  and If statements**\n",
        "\n",
        "Python supports the usual logical conditions from mathematics:\n",
        "\n",
        "**Equals: ** a == b\n",
        "**Not Equals: ** a != b\n",
        "**Less than:**  a < b\n",
        "**Less than or equal to:** a <= b\n",
        "**Greater than:** a > b\n",
        "**Greater than or equal to:** a >= b\n"
      ]
    },
    {
      "cell_type": "markdown",
      "metadata": {
        "id": "jKB402BSky1H"
      },
      "source": [
        "### If statement\n",
        "\n",
        "---\n",
        "\n",
        "\n",
        "These conditions can be used in several ways, most commonly in \"if statements\" and loops.\n",
        "\n",
        "An \"if statement\" is written by using the if keyword."
      ]
    },
    {
      "cell_type": "code",
      "metadata": {
        "id": "uD6XC1fWw9qN",
        "outputId": "f7008f58-e048-4f3c-b33c-f42fef74cb4a",
        "colab": {
          "base_uri": "https://localhost:8080/"
        }
      },
      "source": [
        "a = 33\n",
        "\n",
        "b = 200\n",
        "\n",
        "if b>a:\n",
        "  print(\"b is greater than a\")"
      ],
      "execution_count": 1,
      "outputs": [
        {
          "output_type": "stream",
          "name": "stdout",
          "text": [
            "b is greater than a\n"
          ]
        }
      ]
    },
    {
      "cell_type": "markdown",
      "metadata": {
        "id": "Kgqi58aS10QT"
      },
      "source": [
        "**Indentation**\n",
        "\n",
        "Python relies on indentation, using whitespace, to define scope in the code. Other programming languages often use curly-brackets for this purpose.\n",
        "\n",
        "---\n",
        "\n"
      ]
    },
    {
      "cell_type": "code",
      "metadata": {
        "id": "oBylwgTC15jJ",
        "outputId": "3c42ab2e-3891-4cf4-b418-7eb1c31dfc9c",
        "colab": {
          "base_uri": "https://localhost:8080/"
        }
      },
      "source": [
        "#If statement, without indentation (will raise an error):\n",
        "\n",
        "a = 33\n",
        "b = 200\n",
        "if b > a:\n",
        "  print(\"b is greater than a\") # you will get an error"
      ],
      "execution_count": 9,
      "outputs": [
        {
          "output_type": "stream",
          "name": "stdout",
          "text": [
            "b is greater than a\n"
          ]
        }
      ]
    },
    {
      "cell_type": "markdown",
      "metadata": {
        "id": "BbAG4R2o2Ouv"
      },
      "source": [
        "**Elif**\n",
        "\n",
        "The elif keyword is pythons way of saying \"if the previous conditions were not true, then try this condition\".\n",
        "\n",
        "---\n",
        "\n"
      ]
    },
    {
      "cell_type": "code",
      "metadata": {
        "id": "8x2KtpSL12O1",
        "outputId": "f0e6af7b-ea11-44bc-81e4-bf4e352fd807",
        "colab": {
          "base_uri": "https://localhost:8080/"
        }
      },
      "source": [
        "a = 33\n",
        "\n",
        "b = 33\n",
        "\n",
        "if a > b:\n",
        "  print(\"a is greater than b\")\n",
        "elif a == b:\n",
        "  print(\"a is equal to b\")\n",
        "\n",
        "  #In this example a is equal to b, so the first condition is not true, but the elif condition is true, so we print to screen that \"a and b are equal\"."
      ],
      "execution_count": 10,
      "outputs": [
        {
          "output_type": "stream",
          "name": "stdout",
          "text": [
            "a is equal to b\n"
          ]
        }
      ]
    },
    {
      "cell_type": "markdown",
      "metadata": {
        "id": "T58SqzDQ2n1B"
      },
      "source": [
        " **Else**\n",
        "  \n",
        "The else keyword catches anything which isn't caught by the preceding conditions.\n",
        "\n",
        "---\n",
        "\n"
      ]
    },
    {
      "cell_type": "code",
      "metadata": {
        "id": "fzYbhmJi25-E",
        "outputId": "794abb57-bb0d-4e88-d958-a3a4cca25863",
        "colab": {
          "base_uri": "https://localhost:8080/"
        }
      },
      "source": [
        "a = 200\n",
        "\n",
        "b = 30\n",
        "\n",
        "if b > a:\n",
        "  print(\"b is greater than a\")\n",
        "\n",
        "elif b == a:\n",
        "  print(\"a is equal to b\")\n",
        "\n",
        "else:\n",
        "  print(\"a is greater than b\")"
      ],
      "execution_count": 11,
      "outputs": [
        {
          "output_type": "stream",
          "name": "stdout",
          "text": [
            "a is greater than b\n"
          ]
        }
      ]
    },
    {
      "cell_type": "markdown",
      "metadata": {
        "id": "g3Jvsrc83ier"
      },
      "source": [
        "You can also have an else without the elif:"
      ]
    },
    {
      "cell_type": "code",
      "metadata": {
        "id": "MOQlrnvv3jJj",
        "outputId": "6990fbc3-6e3e-4165-8f95-21e91bfdf291",
        "colab": {
          "base_uri": "https://localhost:8080/"
        }
      },
      "source": [
        "a = 200\n",
        "b = 33\n",
        "if b > a:\n",
        "  print(\"b is greater than a\")\n",
        "else:\n",
        "  print(\"b is not greater than a\")\n"
      ],
      "execution_count": 3,
      "outputs": [
        {
          "output_type": "stream",
          "name": "stdout",
          "text": [
            "b is not greater than a\n"
          ]
        }
      ]
    },
    {
      "cell_type": "markdown",
      "metadata": {
        "id": "Deb3RePg3qsQ"
      },
      "source": [
        "**Short Hand If**\n",
        "\n",
        "If you have only one statement to execute, you can put it on the same line as the if statement.\n",
        "\n",
        "---\n",
        "\n"
      ]
    },
    {
      "cell_type": "code",
      "metadata": {
        "id": "tpmxQnO53sZ3",
        "outputId": "29afeac6-bebd-471d-8994-88b8555e38ca",
        "colab": {
          "base_uri": "https://localhost:8080/"
        }
      },
      "source": [
        "if a > b: print(\"a is greater than b\")"
      ],
      "execution_count": 4,
      "outputs": [
        {
          "output_type": "stream",
          "name": "stdout",
          "text": [
            "a is greater than b\n"
          ]
        }
      ]
    },
    {
      "cell_type": "markdown",
      "metadata": {
        "id": "nHd47ypy3zyK"
      },
      "source": [
        "**Short Hand If ... Else**\n",
        "\n",
        "If you have only one statement to execute, one for if, and one for else, you can put it all on the same line:\n",
        "\n",
        "---\n",
        "\n"
      ]
    },
    {
      "cell_type": "code",
      "metadata": {
        "id": "M7hRHNmZ34GV",
        "outputId": "5cfcfb2b-b7e7-48e5-b45e-59dc70eba296",
        "colab": {
          "base_uri": "https://localhost:8080/"
        }
      },
      "source": [
        "print(\"A\") if a > b else print(\"B\")"
      ],
      "execution_count": 5,
      "outputs": [
        {
          "output_type": "stream",
          "name": "stdout",
          "text": [
            "A\n"
          ]
        }
      ]
    },
    {
      "cell_type": "markdown",
      "metadata": {
        "id": "UwwPV3-Z39BU"
      },
      "source": [
        "One line if else statement, with 3 conditions:"
      ]
    },
    {
      "cell_type": "code",
      "metadata": {
        "id": "MbkMbUqZ4Cd4",
        "outputId": "e62895ef-3611-42e9-88c3-a1c3fa544574",
        "colab": {
          "base_uri": "https://localhost:8080/"
        }
      },
      "source": [
        "print(\"A\") if a > b else print(\"=\") if a == b else print(\"B\")"
      ],
      "execution_count": 6,
      "outputs": [
        {
          "output_type": "stream",
          "name": "stdout",
          "text": [
            "A\n"
          ]
        }
      ]
    },
    {
      "cell_type": "markdown",
      "metadata": {
        "id": "ls1_Iitd4cIZ"
      },
      "source": [
        "**And**\n",
        "\n",
        "The and keyword is a **logical operator**, and is used to combine conditional statements:\n",
        "\n",
        "---\n",
        "\n"
      ]
    },
    {
      "cell_type": "code",
      "metadata": {
        "id": "ZY88Ic6C4ffG",
        "outputId": "4eb0e678-afe6-40f6-d072-815854493ae8",
        "colab": {
          "base_uri": "https://localhost:8080/"
        }
      },
      "source": [
        "a = 30\n",
        "b = 40\n",
        "c = 20\n",
        "\n",
        "if b > a and b > c:\n",
        "  print(\"both the conditions are true\")"
      ],
      "execution_count": 7,
      "outputs": [
        {
          "output_type": "stream",
          "name": "stdout",
          "text": [
            "both the conditions are true\n"
          ]
        }
      ]
    },
    {
      "cell_type": "markdown",
      "metadata": {
        "id": "9JFeqEv649fz"
      },
      "source": [
        "**Or**\n",
        "\n",
        "The or keyword is a **logical operator**, and is used to combine conditional statements:\n",
        "\n",
        "---\n",
        "\n"
      ]
    },
    {
      "cell_type": "code",
      "metadata": {
        "id": "gflAYBkT5DNk",
        "outputId": "b0f40d62-4d7e-49a2-bb50-d6fe72141c73",
        "colab": {
          "base_uri": "https://localhost:8080/"
        }
      },
      "source": [
        "a = 30\n",
        "b = 40\n",
        "c = 20\n",
        "\n",
        "if b > a or b < c:\n",
        "  print(\"Atleaset one condition is true\")"
      ],
      "execution_count": 8,
      "outputs": [
        {
          "output_type": "stream",
          "name": "stdout",
          "text": [
            "Atleaset one condition is true\n"
          ]
        }
      ]
    },
    {
      "cell_type": "code",
      "source": [
        "# Check if a number is positive, negative, or zero\n",
        "number = 10\n",
        "\n",
        "if number > 0:\n",
        "    print(\"The number is positive.\")\n",
        "elif number < 0:\n",
        "    print(\"The number is negative.\")\n",
        "else:\n",
        "    print(\"The number is zero.\")\n"
      ],
      "metadata": {
        "colab": {
          "base_uri": "https://localhost:8080/"
        },
        "id": "vkaIfdA9GaCv",
        "outputId": "00014541-18ed-4d29-bd48-5652fd25cf0d"
      },
      "execution_count": 12,
      "outputs": [
        {
          "output_type": "stream",
          "name": "stdout",
          "text": [
            "The number is positive.\n"
          ]
        }
      ]
    }
  ]
}