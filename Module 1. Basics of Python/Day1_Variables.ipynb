{
  "nbformat": 4,
  "nbformat_minor": 0,
  "metadata": {
    "colab": {
      "provenance": []
    },
    "kernelspec": {
      "name": "python3",
      "display_name": "Python 3"
    },
    "language_info": {
      "name": "python"
    }
  },
  "cells": [
    {
      "cell_type": "markdown",
      "source": [
        "#VARIABLES\n",
        "\n",
        "In Python, a variable is like a container that holds data. You can think of it as a label for a value. For example, when you write x = 10, you're telling Python to store the number 10 in a container named x. Later, you can use x to access the value 10. Variables make it easy to store, use, and change information in your programs."
      ],
      "metadata": {
        "id": "x3S3_Dk6d2Gp"
      }
    },
    {
      "cell_type": "code",
      "source": [
        "#Creating Variables\n",
        "\n",
        "x = 10        # Integer\n",
        "y = 3.14      # Float\n",
        "name = \"Alice\"  # String\n",
        "is_valid = True # Boolean\n"
      ],
      "metadata": {
        "id": "H88Ek4OwrJpw"
      },
      "execution_count": 19,
      "outputs": []
    },
    {
      "cell_type": "code",
      "source": [
        "# Assign multiple variables in a single line\n",
        "\n",
        "a, b, c = 1, 2, 3\n",
        "print(a)\n",
        "print(b)\n",
        "print(c)\n"
      ],
      "metadata": {
        "colab": {
          "base_uri": "https://localhost:8080/"
        },
        "id": "FtZ1XeV-rfqW",
        "outputId": "3db2d401-0d14-471c-d88e-3ed0faca07be"
      },
      "execution_count": 20,
      "outputs": [
        {
          "output_type": "stream",
          "name": "stdout",
          "text": [
            "1\n",
            "2\n",
            "3\n"
          ]
        }
      ]
    }
  ]
}